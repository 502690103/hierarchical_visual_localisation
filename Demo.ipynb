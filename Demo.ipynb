{
 "cells": [
  {
   "cell_type": "code",
   "execution_count": null,
   "metadata": {},
   "outputs": [],
   "source": [
    "import h5py\n",
    "import numpy as np\n",
    "from sklearn.neighbors import NearestNeighbors\n",
    "from dataset_loaders import aachen\n",
    "import matplotlib.pyplot as plt\n",
    "%matplotlib inline"
   ]
  },
  {
   "cell_type": "code",
   "execution_count": null,
   "metadata": {},
   "outputs": [],
   "source": [
    "verification =  h5py.File(\"data/test.hdf5\", \"r\")['results']\n",
    "print(verification.shape)\n",
    "global_features = []\n",
    "for v in verification:\n",
    "    sh = int(v[0])\n",
    "    #print(v.shape)\n",
    "    #print(sh)\n",
    "    #print(v[sh])\n",
    "    #print(v[sh+1])\n",
    "    global_features.append(v[1:sh+1])"
   ]
  },
  {
   "cell_type": "code",
   "execution_count": null,
   "metadata": {},
   "outputs": [],
   "source": [
    "global_features = np.vstack(global_features)"
   ]
  },
  {
   "cell_type": "code",
   "execution_count": null,
   "metadata": {},
   "outputs": [],
   "source": [
    "print(global_features.shape)"
   ]
  },
  {
   "cell_type": "code",
   "execution_count": null,
   "metadata": {},
   "outputs": [],
   "source": [
    "nbrs = NearestNeighbors(n_neighbors=3).fit(global_features)\n",
    "distances, indices = nbrs.kneighbors(global_features)"
   ]
  },
  {
   "cell_type": "code",
   "execution_count": null,
   "metadata": {},
   "outputs": [],
   "source": [
    "dataset = aachen.AachenDayNight('data/AachenDayNight', True, train_split=-1,seed=0,input_types='img', output_types=[], real=True, verbose=False, overfit=100)"
   ]
  },
  {
   "cell_type": "code",
   "execution_count": null,
   "metadata": {},
   "outputs": [],
   "source": [
    "n = 15\n",
    "for i in range(n):\n",
    "    most_similar = indices[i,1:]\n",
    "    imgs = [dataset[i][0]] + [dataset[j][0] for j in most_similar]\n",
    "    fig = plt.figure(figsize=(15,5))\n",
    "    for j in range(3):\n",
    "        a = fig.add_subplot(1, 3, j+1)\n",
    "        plt.imshow(imgs[j])\n",
    "        plt.title(str(distances[i][j]))\n",
    "        plt.axis('off')"
   ]
  },
  {
   "cell_type": "code",
   "execution_count": null,
   "metadata": {},
   "outputs": [],
   "source": []
  }
 ],
 "metadata": {
  "kernelspec": {
   "display_name": "hfnet-pytorch",
   "language": "python",
   "name": "hfnet-pytorch"
  },
  "language_info": {
   "codemirror_mode": {
    "name": "ipython",
    "version": 3
   },
   "file_extension": ".py",
   "mimetype": "text/x-python",
   "name": "python",
   "nbconvert_exporter": "python",
   "pygments_lexer": "ipython3",
   "version": "3.7.3"
  }
 },
 "nbformat": 4,
 "nbformat_minor": 2
}

{
 "cells": [
  {
   "cell_type": "code",
   "execution_count": null,
   "metadata": {},
   "outputs": [],
   "source": [
    "from lib.model_test import D2Net\n",
    "from lib.utils import preprocess_image\n",
    "from lib.pyramid import process_multiscale\n",
    "\n",
    "import numpy as np\n",
    "import torch\n",
    "\n",
    "import scipy\n",
    "import scipy.io\n",
    "import scipy.misc\n",
    "\n",
    "import imageio\n",
    "\n",
    "import matplotlib.pyplot as plt\n",
    "%matplotlib inline"
   ]
  },
  {
   "cell_type": "code",
   "execution_count": null,
   "metadata": {},
   "outputs": [],
   "source": [
    "##settings \n",
    "model_file = '../../data/teacher_models/d2net/d2_ots.pth'\n",
    "use_relu = True\n",
    "use_cuda = torch.cuda.is_available()\n",
    "max_edge = 1600\n",
    "max_sum_edges = 2800\n",
    "preprocessing = 'caffe'\n",
    "multiscale=False\n",
    "device = 'cuda' if torch.cuda.is_available() else 'cpu'"
   ]
  },
  {
   "cell_type": "code",
   "execution_count": null,
   "metadata": {},
   "outputs": [],
   "source": [
    "model = D2Net(\n",
    "    model_file=model_file,\n",
    "    use_relu=use_relu,\n",
    "    use_cuda=use_cuda\n",
    ")"
   ]
  },
  {
   "cell_type": "code",
   "execution_count": null,
   "metadata": {},
   "outputs": [],
   "source": [
    "image = imageio.imread('../../data/AachenDayNight/images_upright/db/1.jpg')\n",
    "plt.imshow(image)\n",
    "plt.axis('off')\n",
    "plt.show()"
   ]
  },
  {
   "cell_type": "code",
   "execution_count": null,
   "metadata": {},
   "outputs": [],
   "source": [
    "resized_image = image\n",
    "if max(resized_image.shape) > max_edge:\n",
    "    resized_image = scipy.misc.imresize(\n",
    "            resized_image,\n",
    "            max_edge / max(resized_image.shape)\n",
    "        ).astype('float')\n",
    "if sum(resized_image.shape[: 2]) > max_sum_edges:\n",
    "    resized_image = scipy.misc.imresize(\n",
    "            resized_image,\n",
    "            max_sum_edges / sum(resized_image.shape[: 2])\n",
    "        ).astype('float')"
   ]
  },
  {
   "cell_type": "code",
   "execution_count": null,
   "metadata": {},
   "outputs": [],
   "source": [
    "fact_i = image.shape[0] / resized_image.shape[0]\n",
    "fact_j = image.shape[1] / resized_image.shape[1]\n",
    "input_image = preprocess_image(\n",
    "        resized_image,\n",
    "        preprocessing=preprocessing\n",
    "    )"
   ]
  },
  {
   "cell_type": "code",
   "execution_count": null,
   "metadata": {},
   "outputs": [],
   "source": [
    "with torch.no_grad():\n",
    "    if multiscale:\n",
    "        keypoints, scores, descriptors = process_multiscale(\n",
    "            torch.tensor(\n",
    "                input_image[np.newaxis, :, :, :].astype(np.float32),\n",
    "                device=device\n",
    "            ),\n",
    "            model\n",
    "        )\n",
    "    else:\n",
    "        keypoints, scores, descriptors = process_multiscale(\n",
    "            torch.tensor(\n",
    "                input_image[np.newaxis, :, :, :].astype(np.float32),\n",
    "                device=device\n",
    "            ),\n",
    "            model,\n",
    "            scales=[1]\n",
    "        )"
   ]
  },
  {
   "cell_type": "code",
   "execution_count": null,
   "metadata": {},
   "outputs": [],
   "source": [
    "# Input image coordinates\n",
    "keypoints[:, 0] *= fact_i\n",
    "keypoints[:, 1] *= fact_j\n",
    "# i, j -> u, v\n",
    "keypoints = keypoints[:, [1, 0, 2]]"
   ]
  },
  {
   "cell_type": "code",
   "execution_count": null,
   "metadata": {},
   "outputs": [],
   "source": [
    "print(keypoints.shape)\n",
    "print(image.shape)\n",
    "print(keypoints[:, 0:2].max(axis=0))\n",
    "print(descriptors.shape)"
   ]
  },
  {
   "cell_type": "code",
   "execution_count": null,
   "metadata": {},
   "outputs": [],
   "source": []
  }
 ],
 "metadata": {
  "kernelspec": {
   "display_name": "hfnet-pytorch",
   "language": "python",
   "name": "hfnet-pytorch"
  },
  "language_info": {
   "codemirror_mode": {
    "name": "ipython",
    "version": 3
   },
   "file_extension": ".py",
   "mimetype": "text/x-python",
   "name": "python",
   "nbconvert_exporter": "python",
   "pygments_lexer": "ipython3",
   "version": "3.7.3"
  }
 },
 "nbformat": 4,
 "nbformat_minor": 4
}

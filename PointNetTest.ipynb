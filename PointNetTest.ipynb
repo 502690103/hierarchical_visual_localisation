{
 "cells": [
  {
   "cell_type": "code",
   "execution_count": null,
   "metadata": {},
   "outputs": [],
   "source": [
    "import torch\n",
    "import models.pointnet2_classification as ptnet\n",
    "from models.cirtorch_network import init_network, extract_vectors\n",
    "import torch_geometric\n",
    "from torch_geometric.data import Data\n",
    "from models.cirtorch_utils.genericdataset import PointCloudImagesFromList, PCDataLoader\n",
    "from dataset_loaders.txt_to_db import get_images, get_points\n",
    "from torchvision import transforms\n",
    "import matplotlib.pyplot as plt\n",
    "from mpl_toolkits.mplot3d import Axes3D\n",
    "import numpy as np\n",
    "from torch_geometric.data import DataLoader\n",
    "\n",
    "#%load_ext autoreload\n",
    "#%autoreload 2"
   ]
  },
  {
   "cell_type": "raw",
   "metadata": {},
   "source": [
    "from dataset_loaders.cambridge import Cambridge\n",
    "cambridge_dataset = Cambridge(demean=False)"
   ]
  },
  {
   "cell_type": "raw",
   "metadata": {},
   "source": [
    "example_img_id = 0\n",
    "img, pts, _, _ = cambridge_dataset[example_img_id]\n",
    "example_pts = pts.numpy()\n",
    "print(example_pts.shape)\n",
    "mid, std = example_pts.mean(axis=0), example_pts.std(axis=0)\n",
    "print(mid)\n",
    "print(std)\n",
    "print(np.std(std)/np.mean(std))\n",
    "rng = 2*std\n",
    "fig = plt.figure(figsize=(15,5))\n",
    "ax = fig.add_subplot(121)\n",
    "ax.imshow(img)\n",
    "#xys = np.vstack(imgs[example_img_id].xys)\n",
    "#print(xys.shape)\n",
    "#ax.scatter(xys[:,0] + img.shape[1]//2, xys[:,1] + img.shape[0]//2, s=1.0, c='r', marker='x')\n",
    "ax.axis('off')\n",
    "ax = fig.add_subplot(122, projection='3d')\n",
    "ax.scatter(example_pts[:,0], example_pts[:,1], example_pts[:,2], color='r', s=1.0)\n",
    "ax.set_xlim3d(mid[0]-rng[0], mid[0]+rng[0])\n",
    "ax.set_ylim3d(mid[1]-rng[1], mid[1]+rng[1])\n",
    "ax.set_zlim3d(mid[2]-rng[2], mid[2]+rng[2])\n",
    "#fig.savefig('figures/ShopFacadePoints_{}.png'.format(example_img_id), bbox_inches=\"tight\")\n",
    "plt.show()"
   ]
  },
  {
   "cell_type": "code",
   "execution_count": null,
   "metadata": {},
   "outputs": [],
   "source": [
    "pointnet = ptnet.NetAachen()"
   ]
  },
  {
   "cell_type": "code",
   "execution_count": null,
   "metadata": {},
   "outputs": [],
   "source": [
    "test_sample = Data(pos=torch.Tensor(10, 3), batch=torch.LongTensor([0]*10))"
   ]
  },
  {
   "cell_type": "code",
   "execution_count": null,
   "metadata": {},
   "outputs": [],
   "source": [
    "test_result = pointnet(test_sample)"
   ]
  },
  {
   "cell_type": "code",
   "execution_count": null,
   "metadata": {},
   "outputs": [],
   "source": [
    "print(test_result.size())"
   ]
  },
  {
   "cell_type": "code",
   "execution_count": null,
   "metadata": {},
   "outputs": [],
   "source": [
    "#params = {'mean', [], 'std': []}\n",
    "cir = init_network({'architecture' : 'resnet34'})"
   ]
  },
  {
   "cell_type": "code",
   "execution_count": null,
   "metadata": {},
   "outputs": [],
   "source": [
    "fd = cir(torch.Tensor(1, 3, 256, 256))"
   ]
  },
  {
   "cell_type": "code",
   "execution_count": null,
   "metadata": {},
   "outputs": [],
   "source": [
    "print(fd.size())"
   ]
  },
  {
   "cell_type": "code",
   "execution_count": null,
   "metadata": {},
   "outputs": [],
   "source": [
    "if not 'images' in locals():\n",
    "    images = get_images()\n",
    "if not 'points3d' in locals():\n",
    "    points3d = get_points()\n",
    "print('Done')"
   ]
  },
  {
   "cell_type": "code",
   "execution_count": null,
   "metadata": {},
   "outputs": [],
   "source": [
    "# set up the transform\n",
    "normalize = transforms.Normalize(\n",
    "   mean=cir.meta['mean'],\n",
    "   std=cir.meta['std']\n",
    ")\n",
    "transform = transforms.Compose([\n",
    "    transforms.CenterCrop(1024),\n",
    "    transforms.ToTensor(),\n",
    "    normalize\n",
    "])"
   ]
  },
  {
   "cell_type": "code",
   "execution_count": null,
   "metadata": {},
   "outputs": [],
   "source": [
    "transform = transforms.Compose([\n",
    "    transforms.Resize(1024),\n",
    "    transforms.CenterCrop(1024), \n",
    "])\n",
    "sampler = PointCloudImagesFromList('data/AachenDayNight/images_upright', images, points3d, \n",
    "                                   imsize=1024, transform=transform, triplet=True, \n",
    "                                   #min_num_points=500, max_std_std=0.25, within_std=1.0,\n",
    "                                   min_num_points=0, max_std_std=100, within_std=100,\n",
    "                                   deterministic=True, demean=False\n",
    "                                  )\n",
    "print('{} items in dataset'.format(len(sampler)))"
   ]
  },
  {
   "cell_type": "code",
   "execution_count": null,
   "metadata": {},
   "outputs": [],
   "source": [
    "overfit = 5\n",
    "dataloader = PCDataLoader(sampler, batch_size=cp['Training'].getint('batch_size', 10) if overfit < 0 else 1, shuffle=True if overfit < 0 else False)\n",
    "val_loader = PCDataLoader(sampler, batch_size=1, shuffle=False)"
   ]
  },
  {
   "cell_type": "code",
   "execution_count": null,
   "metadata": {},
   "outputs": [],
   "source": [
    "for i, (d, v) in enumerate(zip(dataloader, val_loader)):\n",
    "    t1 = d\n",
    "    t2 = v\n",
    "    print(torch.nn.functional.mse_loss(t1[0], t2[0]))\n",
    "    if i > min(overfit, len(dataloader)):\n",
    "        break"
   ]
  },
  {
   "cell_type": "code",
   "execution_count": null,
   "metadata": {},
   "outputs": [],
   "source": [
    "cir.train()\n",
    "n1 = cir(t1[0])\n",
    "cir = cir.eval()\n",
    "n2 = cir(t1[0])\n",
    "#print(n1)\n",
    "#print(n2)\n",
    "#torch.nn.functional.mse_loss(n1, n2)\n",
    "#print(n1-n2)"
   ]
  },
  {
   "cell_type": "code",
   "execution_count": null,
   "metadata": {},
   "outputs": [],
   "source": [
    "for i, d in enumerate(dl):\n",
    "    print(i)\n",
    "    print(d[0].size())\n",
    "    print(d[1])\n",
    "    print(d[2].size())\n",
    "    print(d[3])\n",
    "    break\n",
    "t1 = cir(d[0])\n",
    "t2 = pointnet(d[1])\n",
    "print(t1.size())\n",
    "print(t2.size())"
   ]
  },
  {
   "cell_type": "raw",
   "metadata": {},
   "source": [
    "m = 1e10\n",
    "for i, x in enumerate(sampler):\n",
    "    if i % 100 == 0:\n",
    "        print('\\r{:4d}/{}'.format(i, len(sampler)), end='')\n",
    "    d = x[1].size(0)\n",
    "    if d < 10:\n",
    "        print('\\n{}, {}'.format(i, x[1].size(0)))\n",
    "    m = min(m, d)\n",
    "print('\\nMinimum was {}'.format(m))"
   ]
  },
  {
   "cell_type": "code",
   "execution_count": null,
   "metadata": {},
   "outputs": [],
   "source": [
    "test_id = 1\n",
    "test_img, test_pts, triplet_img, triplet_pts = sampler[test_id]"
   ]
  },
  {
   "cell_type": "code",
   "execution_count": null,
   "metadata": {},
   "outputs": [],
   "source": [
    "tp = test_pts.numpy()\n",
    "mid, std = tp.mean(axis=0), tp.std(axis=0)\n",
    "print(mid)\n",
    "print(std)\n",
    "print(np.std(std)/np.mean(std))\n",
    "rng = 2*std\n",
    "fig = plt.figure(figsize=(10,5))\n",
    "ax = fig.add_subplot(121)\n",
    "ax.imshow(test_img)\n",
    "ax.axis('off')\n",
    "ax = fig.add_subplot(122, projection='3d')\n",
    "ax.scatter(tp[:,0], tp[:,2], tp[:,1], color='r', s=1.0)\n",
    "ax.set_xlim3d(mid[0]-rng[0], mid[0]+rng[0])\n",
    "ax.set_zlim3d(mid[1]-rng[1], mid[1]+rng[1])\n",
    "ax.set_ylim3d(mid[2]-rng[2], mid[2]+rng[2])\n",
    "#fig.savefig('figures/good_img_pc_correspondence_{}.png'.format(test_id), bbox_inches=\"tight\")\n",
    "plt.show()"
   ]
  },
  {
   "cell_type": "code",
   "execution_count": null,
   "metadata": {},
   "outputs": [],
   "source": [
    "tp = triplet_pts.numpy()\n",
    "mid, std = tp.mean(axis=0), tp.std(axis=0)\n",
    "print(mid)\n",
    "print(std)\n",
    "print(np.std(std)/np.mean(std))\n",
    "rng = 2*std\n",
    "fig = plt.figure(figsize=(10,5))\n",
    "ax = fig.add_subplot(121)\n",
    "ax.imshow(triplet_img)\n",
    "ax.axis('off')\n",
    "ax = fig.add_subplot(122, projection='3d')\n",
    "ax.scatter(tp[:,0], tp[:,2], tp[:,1], color='r', s=1.0)\n",
    "ax.set_xlim3d(mid[0]-rng[0], mid[0]+rng[0])\n",
    "ax.set_zlim3d(mid[1]-rng[1], mid[1]+rng[1])\n",
    "ax.set_ylim3d(mid[2]-rng[2], mid[2]+rng[2])\n",
    "#fig.savefig('figures/img_pc_correspondence_{}.png'.format(test_id), bbox_inches=\"tight\")\n",
    "plt.show()"
   ]
  },
  {
   "cell_type": "code",
   "execution_count": null,
   "metadata": {},
   "outputs": [],
   "source": [
    "print(test_pts.size())"
   ]
  },
  {
   "cell_type": "code",
   "execution_count": null,
   "metadata": {},
   "outputs": [],
   "source": [
    "plt.imshow(test_img.transpose(0, -1).transpose(0,1).numpy()*cir.meta['std']+cir.meta['mean'])\n",
    "plt.axis('off')\n",
    "plt.show()"
   ]
  },
  {
   "cell_type": "code",
   "execution_count": null,
   "metadata": {},
   "outputs": [],
   "source": [
    "tp = test_pts.numpy()\n",
    "tt = test_triplet.numpy()\n",
    "tpt = np.concatenate([tp, tt])\n",
    "mid, rng = tpt.mean(axis=0), 2*tpt.std(axis=0)\n",
    "print(mid)\n",
    "print(rng)\n",
    "fig = plt.figure()\n",
    "ax = fig.add_subplot(111, projection='3d')\n",
    "ax.scatter(tp[:,0], tp[:,2], tp[:,1], color='r')\n",
    "ax.scatter(tt[:,0], tt[:,2], tt[:,1], color='g')\n",
    "ax.set_xlim3d(mid[0]-rng[0], mid[0]+rng[0])\n",
    "ax.set_zlim3d(mid[1]-rng[1], mid[1]+rng[1])\n",
    "ax.set_ylim3d(mid[2]-rng[2], mid[2]+rng[2])\n",
    "plt.show()"
   ]
  },
  {
   "cell_type": "code",
   "execution_count": null,
   "metadata": {},
   "outputs": [],
   "source": [
    "image_ids = {i : k for i, k in enumerate(images.keys())}"
   ]
  },
  {
   "cell_type": "code",
   "execution_count": null,
   "metadata": {},
   "outputs": [],
   "source": [
    "plt.imshow(plt.imread('data/AachenDayNight/images_upright/'+images[image_ids[test_id]].name))\n",
    "plt.show()"
   ]
  },
  {
   "cell_type": "code",
   "execution_count": null,
   "metadata": {},
   "outputs": [],
   "source": [
    "pt_ids = images[image_ids[test_id]].point3D_ids[images[image_ids[test_id]].point3D_ids > 0]\n",
    "pts = torch.stack([torch.from_numpy(points3d[i].xyz) for i in pt_ids]).numpy()\n",
    "print(np.linalg.norm(pts - test_pts.numpy()))"
   ]
  },
  {
   "cell_type": "code",
   "execution_count": null,
   "metadata": {},
   "outputs": [],
   "source": [
    "import random"
   ]
  },
  {
   "cell_type": "code",
   "execution_count": null,
   "metadata": {},
   "outputs": [],
   "source": [
    "random.seed(0)"
   ]
  },
  {
   "cell_type": "code",
   "execution_count": null,
   "metadata": {},
   "outputs": [],
   "source": [
    "random.choice(image_ids)"
   ]
  },
  {
   "cell_type": "code",
   "execution_count": null,
   "metadata": {},
   "outputs": [],
   "source": [
    "i = 0\n",
    "while True:\n",
    "    trp_idx = random.choice(image_ids)\n",
    "    print(trp_idx)\n",
    "    valid_trp = images[trp_idx].point3D_ids > 0\n",
    "    pt_ids_trp = images[trp_idx].point3D_ids[valid_trp]\n",
    "    shared = np.intersect1d(pt_ids, pt_ids_trp, assume_unique=True)\n",
    "    print(shared.shape)\n",
    "    print(pt_ids.shape[0]*0.01)\n",
    "    if shared.shape[0] < pt_ids.shape[0] * 0.01:\n",
    "        break\n",
    "    i += 1\n",
    "print(i)"
   ]
  },
  {
   "cell_type": "code",
   "execution_count": null,
   "metadata": {},
   "outputs": [],
   "source": [
    "data_to_ptnet = lambda x: Data(pos=x.float(), batch=torch.LongTensor([0]*x.size(0)))"
   ]
  },
  {
   "cell_type": "code",
   "execution_count": null,
   "metadata": {},
   "outputs": [],
   "source": [
    "x = pointnet(data_to_ptnet(test_pts))\n",
    "y = pointnet(data_to_ptnet(test_triplet))\n",
    "z = cir(test_img.unsqueeze(0))"
   ]
  },
  {
   "cell_type": "code",
   "execution_count": null,
   "metadata": {},
   "outputs": [],
   "source": [
    "print(x.size())\n",
    "print(y.size())\n",
    "print(z.size())"
   ]
  },
  {
   "cell_type": "code",
   "execution_count": null,
   "metadata": {},
   "outputs": [],
   "source": [
    "for i, x in enumerate(sampler):\n",
    "    if (i % 1000) == 0:\n",
    "        print(i)\n",
    "print(i)"
   ]
  },
  {
   "cell_type": "code",
   "execution_count": null,
   "metadata": {},
   "outputs": [],
   "source": []
  }
 ],
 "metadata": {
  "kernelspec": {
   "display_name": "hfnet-pytorch",
   "language": "python",
   "name": "hfnet-pytorch"
  },
  "language_info": {
   "codemirror_mode": {
    "name": "ipython",
    "version": 3
   },
   "file_extension": ".py",
   "mimetype": "text/x-python",
   "name": "python",
   "nbconvert_exporter": "python",
   "pygments_lexer": "ipython3",
   "version": "3.7.3"
  }
 },
 "nbformat": 4,
 "nbformat_minor": 4
}

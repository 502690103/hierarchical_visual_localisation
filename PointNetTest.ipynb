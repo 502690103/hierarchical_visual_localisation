{
 "cells": [
  {
   "cell_type": "code",
   "execution_count": 1,
   "metadata": {},
   "outputs": [],
   "source": [
    "import torch\n",
    "import models.pointnet2_classification as ptnet\n",
    "from models.cirtorch_network import init_network, extract_vectors\n",
    "import torch_geometric\n",
    "from torch_geometric.data import Data\n",
    "from models.cirtorch_utils.genericdataset import PointCloudImagesFromList, PCDataLoader\n",
    "from dataset_loaders.txt_to_db import get_images, get_points\n",
    "from torchvision import transforms\n",
    "import matplotlib.pyplot as plt\n",
    "from mpl_toolkits.mplot3d import Axes3D\n",
    "import numpy as np\n",
    "from torch_geometric.data import DataLoader"
   ]
  },
  {
   "cell_type": "code",
   "execution_count": 2,
   "metadata": {},
   "outputs": [],
   "source": [
    "pointnet = ptnet.NetAachen()"
   ]
  },
  {
   "cell_type": "code",
   "execution_count": 3,
   "metadata": {},
   "outputs": [],
   "source": [
    "test_sample = Data(pos=torch.Tensor(10, 3), batch=torch.LongTensor([0]*10))"
   ]
  },
  {
   "cell_type": "code",
   "execution_count": 4,
   "metadata": {},
   "outputs": [],
   "source": [
    "test_result = pointnet(test_sample)"
   ]
  },
  {
   "cell_type": "code",
   "execution_count": 5,
   "metadata": {},
   "outputs": [
    {
     "name": "stdout",
     "output_type": "stream",
     "text": [
      "torch.Size([1, 512])\n"
     ]
    }
   ],
   "source": [
    "print(test_result.size())"
   ]
  },
  {
   "cell_type": "code",
   "execution_count": 6,
   "metadata": {},
   "outputs": [],
   "source": [
    "#params = {'mean', [], 'std': []}\n",
    "cir = init_network({'architecture' : 'resnet34'})"
   ]
  },
  {
   "cell_type": "code",
   "execution_count": 7,
   "metadata": {},
   "outputs": [],
   "source": [
    "fd = cir(torch.Tensor(1, 3, 256, 256))"
   ]
  },
  {
   "cell_type": "code",
   "execution_count": 8,
   "metadata": {},
   "outputs": [
    {
     "name": "stdout",
     "output_type": "stream",
     "text": [
      "torch.Size([512, 1])\n"
     ]
    }
   ],
   "source": [
    "print(fd.size())"
   ]
  },
  {
   "cell_type": "code",
   "execution_count": 9,
   "metadata": {},
   "outputs": [],
   "source": [
    "images = get_images()\n",
    "points3d = get_points()"
   ]
  },
  {
   "cell_type": "code",
   "execution_count": 10,
   "metadata": {},
   "outputs": [],
   "source": [
    "# set up the transform\n",
    "normalize = transforms.Normalize(\n",
    "   mean=cir.meta['mean'],\n",
    "   std=cir.meta['std']\n",
    ")\n",
    "transform = transforms.Compose([\n",
    "    transforms.CenterCrop(1024),\n",
    "    transforms.ToTensor(),\n",
    "    normalize\n",
    "])"
   ]
  },
  {
   "cell_type": "code",
   "execution_count": 11,
   "metadata": {},
   "outputs": [
    {
     "name": "stdout",
     "output_type": "stream",
     "text": [
      "4278 items in dataset\n"
     ]
    }
   ],
   "source": [
    "sampler = PointCloudImagesFromList('data/AachenDayNight/images_upright', images, points3d, imsize=1024, transform=transform, triplet=True, min_num_points=100)\n",
    "print('{} items in dataset'.format(len(sampler)))"
   ]
  },
  {
   "cell_type": "code",
   "execution_count": 12,
   "metadata": {},
   "outputs": [],
   "source": [
    "dl = PCDataLoader(sampler, batch_size=2)"
   ]
  },
  {
   "cell_type": "code",
   "execution_count": 15,
   "metadata": {},
   "outputs": [
    {
     "name": "stdout",
     "output_type": "stream",
     "text": [
      "0\n",
      "torch.Size([2, 3, 1024, 1024])\n",
      "Batch(batch=[7763], pos=[7763, 3])\n",
      "Batch(batch=[7230], pos=[7230, 3])\n",
      "torch.Size([512, 2])\n",
      "torch.Size([2, 512])\n"
     ]
    }
   ],
   "source": [
    "for i, d in enumerate(dl):\n",
    "    print(i)\n",
    "    print(d[0].size())\n",
    "    print(d[1])\n",
    "    print(d[2])\n",
    "    break\n",
    "t1 = cir(d[0])\n",
    "t2 = pointnet(d[1])\n",
    "print(t1.size())\n",
    "print(t2.size())"
   ]
  },
  {
   "cell_type": "raw",
   "metadata": {},
   "source": [
    "m = 1e10\n",
    "for i, x in enumerate(sampler):\n",
    "    if i % 100 == 0:\n",
    "        print('\\r{:4d}/{}'.format(i, len(sampler)), end='')\n",
    "    d = x[1].size(0)\n",
    "    if d < 10:\n",
    "        print('\\n{}, {}'.format(i, x[1].size(0)))\n",
    "    m = min(m, d)\n",
    "print('\\nMinimum was {}'.format(m))"
   ]
  },
  {
   "cell_type": "code",
   "execution_count": null,
   "metadata": {},
   "outputs": [],
   "source": [
    "test_id = 2535\n",
    "test_img, test_pts, test_triplet = sampler[test_id]"
   ]
  },
  {
   "cell_type": "code",
   "execution_count": null,
   "metadata": {},
   "outputs": [],
   "source": [
    "print(test_pts.size())"
   ]
  },
  {
   "cell_type": "code",
   "execution_count": null,
   "metadata": {},
   "outputs": [],
   "source": [
    "plt.imshow(test_img.transpose(0, -1).transpose(0,1).numpy()*cir.meta['std']+cir.meta['mean'])\n",
    "plt.axis('off')\n",
    "plt.show()"
   ]
  },
  {
   "cell_type": "code",
   "execution_count": null,
   "metadata": {},
   "outputs": [],
   "source": [
    "tp = test_pts.numpy()\n",
    "tt = test_triplet.numpy()\n",
    "tpt = np.concatenate([tp, tt])\n",
    "mid, rng = tpt.mean(axis=0), 2*tpt.std(axis=0)\n",
    "print(mid)\n",
    "print(rng)\n",
    "fig = plt.figure()\n",
    "ax = fig.add_subplot(111, projection='3d')\n",
    "ax.scatter(tp[:,0], tp[:,2], tp[:,1], color='r')\n",
    "ax.scatter(tt[:,0], tt[:,2], tt[:,1], color='g')\n",
    "ax.set_xlim3d(mid[0]-rng[0], mid[0]+rng[0])\n",
    "ax.set_zlim3d(mid[1]-rng[1], mid[1]+rng[1])\n",
    "ax.set_ylim3d(mid[2]-rng[2], mid[2]+rng[2])\n",
    "plt.show()"
   ]
  },
  {
   "cell_type": "code",
   "execution_count": null,
   "metadata": {},
   "outputs": [],
   "source": [
    "image_ids = {i : k for i, k in enumerate(images.keys())}"
   ]
  },
  {
   "cell_type": "code",
   "execution_count": null,
   "metadata": {},
   "outputs": [],
   "source": [
    "plt.imshow(plt.imread('data/AachenDayNight/images_upright/'+images[image_ids[test_id]].name))\n",
    "plt.show()"
   ]
  },
  {
   "cell_type": "code",
   "execution_count": null,
   "metadata": {},
   "outputs": [],
   "source": [
    "pt_ids = images[image_ids[test_id]].point3D_ids[images[image_ids[test_id]].point3D_ids > 0]\n",
    "pts = torch.stack([torch.from_numpy(points3d[i].xyz) for i in pt_ids]).numpy()\n",
    "print(np.linalg.norm(pts - test_pts.numpy()))"
   ]
  },
  {
   "cell_type": "code",
   "execution_count": null,
   "metadata": {},
   "outputs": [],
   "source": [
    "import random"
   ]
  },
  {
   "cell_type": "code",
   "execution_count": null,
   "metadata": {},
   "outputs": [],
   "source": [
    "random.seed(0)"
   ]
  },
  {
   "cell_type": "code",
   "execution_count": null,
   "metadata": {},
   "outputs": [],
   "source": [
    "random.choice(image_ids)"
   ]
  },
  {
   "cell_type": "code",
   "execution_count": null,
   "metadata": {},
   "outputs": [],
   "source": [
    "i = 0\n",
    "while True:\n",
    "    trp_idx = random.choice(image_ids)\n",
    "    print(trp_idx)\n",
    "    valid_trp = images[trp_idx].point3D_ids > 0\n",
    "    pt_ids_trp = images[trp_idx].point3D_ids[valid_trp]\n",
    "    shared = np.intersect1d(pt_ids, pt_ids_trp, assume_unique=True)\n",
    "    print(shared.shape)\n",
    "    print(pt_ids.shape[0]*0.01)\n",
    "    if shared.shape[0] < pt_ids.shape[0] * 0.01:\n",
    "        break\n",
    "    i += 1\n",
    "print(i)"
   ]
  },
  {
   "cell_type": "code",
   "execution_count": null,
   "metadata": {},
   "outputs": [],
   "source": [
    "data_to_ptnet = lambda x: Data(pos=x.float(), batch=torch.LongTensor([0]*x.size(0)))"
   ]
  },
  {
   "cell_type": "code",
   "execution_count": null,
   "metadata": {},
   "outputs": [],
   "source": [
    "x = pointnet(data_to_ptnet(test_pts))\n",
    "y = pointnet(data_to_ptnet(test_triplet))\n",
    "z = cir(test_img.unsqueeze(0))"
   ]
  },
  {
   "cell_type": "code",
   "execution_count": null,
   "metadata": {},
   "outputs": [],
   "source": [
    "print(x.size())\n",
    "print(y.size())\n",
    "print(z.size())"
   ]
  },
  {
   "cell_type": "code",
   "execution_count": null,
   "metadata": {},
   "outputs": [],
   "source": [
    "for i, x in enumerate(sampler):\n",
    "    if (i % 1000) == 0:\n",
    "        print(i)\n",
    "print(i)"
   ]
  },
  {
   "cell_type": "code",
   "execution_count": null,
   "metadata": {},
   "outputs": [],
   "source": []
  }
 ],
 "metadata": {
  "kernelspec": {
   "display_name": "hfnet-pytorch",
   "language": "python",
   "name": "hfnet-pytorch"
  },
  "language_info": {
   "codemirror_mode": {
    "name": "ipython",
    "version": 3
   },
   "file_extension": ".py",
   "mimetype": "text/x-python",
   "name": "python",
   "nbconvert_exporter": "python",
   "pygments_lexer": "ipython3",
   "version": "3.7.3"
  }
 },
 "nbformat": 4,
 "nbformat_minor": 2
}
